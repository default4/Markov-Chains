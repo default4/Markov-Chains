{
 "cells": [
  {
   "cell_type": "code",
   "execution_count": 6,
   "id": "dd7857ae",
   "metadata": {},
   "outputs": [],
   "source": [
    "import requests\n",
    "import numpy as np\n",
    "import pandas as pd\n",
    "import re\n",
    "import random\n"
   ]
  },
  {
   "cell_type": "code",
   "execution_count": 7,
   "id": "4f43946e",
   "metadata": {},
   "outputs": [],
   "source": [
    "def download_script(url):\n",
    "    response = requests.get(url)\n",
    "    text = response.text\n",
    "    return text"
   ]
  },
  {
   "cell_type": "code",
   "execution_count": 8,
   "id": "00719cba",
   "metadata": {},
   "outputs": [],
   "source": [
    "def preprocess_text(text):\n",
    "    text = re.sub('[^A-Za-z0-9 .,;?!]+', '', text)\n",
    "    text = re.sub('\\s+', ' ', text).strip()\n",
    "    return text"
   ]
  },
  {
   "cell_type": "code",
   "execution_count": 9,
   "id": "50b06200",
   "metadata": {},
   "outputs": [],
   "source": [
    "def train_markov_chain(text, order=1):\n",
    "    words = text.split()\n",
    "    model = {}\n",
    "\n",
    "    for i in range(len(words) - order):\n",
    "        key = tuple(words[i:i + order])\n",
    "        next_word = words[i + order]\n",
    "\n",
    "        if key not in model:\n",
    "            model[key] = []\n",
    "\n",
    "        model[key].append(next_word)\n",
    "\n",
    "    return model"
   ]
  },
  {
   "cell_type": "code",
   "execution_count": 10,
   "id": "4fe0b4eb",
   "metadata": {},
   "outputs": [],
   "source": [
    "def generate_text(model, seed=None, length=50):\n",
    "    if seed is None:\n",
    "        seed = random.choice(list(model.keys()))\n",
    "\n",
    "    current_key = seed\n",
    "    output = list(seed)\n",
    "\n",
    "    for _ in range(length):\n",
    "        next_word = random.choice(model[current_key])\n",
    "        output.append(next_word)\n",
    "        current_key = tuple(output[-len(seed):])\n",
    "\n",
    "    return ' '.join(output)"
   ]
  },
  {
   "cell_type": "code",
   "execution_count": 11,
   "id": "53ad3a84",
   "metadata": {},
   "outputs": [
    {
     "name": "stdout",
     "output_type": "stream",
     "text": [
      "Cobb looks into a dream within that dream the effect is compounded.b ARIADNEb How could I ever get enough detail to Convince him that the dream state, conscious defenses are lowered and your thoughts become vulnerable to theft. Its called extraction.b COBBb Exactly. My job is to protect you from that south tower.b 114.bCobb slips into his pack and lets off a shoe and watches it DROP.b MALb Come out onto the different planeand walk down the wall, darting past windows. He stops ata particular one. Gets out a DIE.b ARTHURb A loaded die.Ariadne reaches for Ariadnes arm, turns her to look\n"
     ]
    }
   ],
   "source": [
    "if __name__ == '__main__':\n",
    "    # Download a movie script from IMSDb\n",
    "    script_url = 'https://www.imsdb.com/scripts/Inception.html' # Inception movie script\n",
    "    raw_text = download_script(script_url)\n",
    "    text = preprocess_text(raw_text)\n",
    "\n",
    "    # Train the Markov Chains model\n",
    "    order = 2\n",
    "    markov_model = train_markov_chain(text, order)\n",
    "\n",
    "    # Generate new text using the trained model\n",
    "    seed = ('Cobb', 'looks')\n",
    "    generated_text = generate_text(markov_model, seed, length=100)\n",
    "    print(generated_text)\n"
   ]
  },
  {
   "cell_type": "code",
   "execution_count": null,
   "id": "d02fb700",
   "metadata": {},
   "outputs": [],
   "source": []
  }
 ],
 "metadata": {
  "kernelspec": {
   "display_name": "Python 3 (ipykernel)",
   "language": "python",
   "name": "python3"
  },
  "language_info": {
   "codemirror_mode": {
    "name": "ipython",
    "version": 3
   },
   "file_extension": ".py",
   "mimetype": "text/x-python",
   "name": "python",
   "nbconvert_exporter": "python",
   "pygments_lexer": "ipython3",
   "version": "3.9.12"
  }
 },
 "nbformat": 4,
 "nbformat_minor": 5
}
