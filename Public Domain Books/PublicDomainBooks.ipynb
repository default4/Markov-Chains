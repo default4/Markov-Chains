{
 "cells": [
  {
   "cell_type": "code",
   "execution_count": 12,
   "id": "a90792a0",
   "metadata": {},
   "outputs": [],
   "source": [
    "import requests\n",
    "from bs4 import BeautifulSoup\n",
    "import numpy as np\n",
    "import pandas as pd\n",
    "import re\n",
    "import random"
   ]
  },
  {
   "cell_type": "code",
   "execution_count": 13,
   "id": "9a015f21",
   "metadata": {},
   "outputs": [],
   "source": [
    "def download_book(url):\n",
    "    response = requests.get(url)\n",
    "    soup = BeautifulSoup(response.text, 'html.parser')\n",
    "    text = soup.get_text(strip=True)\n",
    "    return text"
   ]
  },
  {
   "cell_type": "code",
   "execution_count": 14,
   "id": "e3a6c934",
   "metadata": {},
   "outputs": [],
   "source": [
    "def preprocess_text(text):\n",
    "    text = re.sub('[^A-Za-z0-9 .,;?!]+', '', text)\n",
    "    text = re.sub('\\s+', ' ', text).strip()\n",
    "    return text"
   ]
  },
  {
   "cell_type": "code",
   "execution_count": 15,
   "id": "a570de33",
   "metadata": {},
   "outputs": [],
   "source": [
    "def train_markov_chain(text, order=1):\n",
    "    words = text.split()\n",
    "    model = {}\n",
    "\n",
    "    for i in range(len(words) - order):\n",
    "        key = tuple(words[i:i + order])\n",
    "        next_word = words[i + order]\n",
    "\n",
    "        if key not in model:\n",
    "            model[key] = []\n",
    "\n",
    "        model[key].append(next_word)\n",
    "\n",
    "    return model"
   ]
  },
  {
   "cell_type": "code",
   "execution_count": 16,
   "id": "75156273",
   "metadata": {},
   "outputs": [],
   "source": [
    "def generate_text(model, seed=None, length=50):\n",
    "    if seed is None:\n",
    "        seed = random.choice(list(model.keys()))\n",
    "\n",
    "    current_key = seed\n",
    "    output = list(seed)\n",
    "\n",
    "    for _ in range(length):\n",
    "        next_word = random.choice(model[current_key])\n",
    "        output.append(next_word)\n",
    "        current_key = tuple(output[-len(seed):])\n",
    "\n",
    "    return ' '.join(output)"
   ]
  },
  {
   "cell_type": "code",
   "execution_count": 17,
   "id": "b05d5312",
   "metadata": {},
   "outputs": [
    {
     "name": "stdout",
     "output_type": "stream",
     "text": [
      "Alice was so small as thisbefore, never! And I declare its too bad, that it was addressed to thebaby, and not to her, still it had finished this short speech, they allcheered.Alice thought the poor little feet, Iwonder who will put on her lap as if he thought it over yes, thats about the Mission of Project Gutenbergtm work. The Foundation makes norepresentations concerning the copyright holder, your use and distributionmust comply with paragraph 1.F.3, the ProjectGutenberg Literary Archive Foundation is a registered trademark. It may only beused on or associated in any way with the lobsters, out to sea!But the snail\n"
     ]
    }
   ],
   "source": [
    "if __name__ == '__main__':\n",
    "    # Download a public domain book from Project Gutenberg\n",
    "    book_url = 'https://www.gutenberg.org/cache/epub/11/pg11.txt' # Alice's Adventures in Wonderland by Lewis Carroll\n",
    "    raw_text = download_book(book_url)\n",
    "    text = preprocess_text(raw_text)\n",
    "\n",
    "    # Train the Markov Chains model\n",
    "    order = 2\n",
    "    markov_model = train_markov_chain(text, order)\n",
    "\n",
    "    # Generate new text using the trained model\n",
    "    seed = ('Alice', 'was')\n",
    "    generated_text = generate_text(markov_model, seed, length=100)\n",
    "    print(generated_text)"
   ]
  },
  {
   "cell_type": "code",
   "execution_count": null,
   "id": "d1a154cc",
   "metadata": {},
   "outputs": [],
   "source": []
  }
 ],
 "metadata": {
  "kernelspec": {
   "display_name": "Python 3 (ipykernel)",
   "language": "python",
   "name": "python3"
  },
  "language_info": {
   "codemirror_mode": {
    "name": "ipython",
    "version": 3
   },
   "file_extension": ".py",
   "mimetype": "text/x-python",
   "name": "python",
   "nbconvert_exporter": "python",
   "pygments_lexer": "ipython3",
   "version": "3.9.12"
  }
 },
 "nbformat": 4,
 "nbformat_minor": 5
}
